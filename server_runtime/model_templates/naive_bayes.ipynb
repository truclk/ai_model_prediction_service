{
 "cells": [
  {
   "cell_type": "code",
   "execution_count": null,
   "id": "03d419c9-53ad-44e5-b762-e9fb7575daa0",
   "metadata": {},
   "outputs": [],
   "source": [
    "dsr_training_file = \"\""
   ]
  },
  {
   "cell_type": "code",
   "execution_count": null,
   "id": "0eedf7c1-5e8d-43a1-8426-a647cd7d8a53",
   "metadata": {},
   "outputs": [],
   "source": [
    "dsr_predict_column = \"\""
   ]
  },
  {
   "cell_type": "code",
   "execution_count": null,
   "id": "5c7b59bd-f38e-42fa-b2b8-1aa4114258d0",
   "metadata": {},
   "outputs": [],
   "source": [
    "dsr_features = []"
   ]
  },
  {
   "cell_type": "code",
   "execution_count": null,
   "id": "c489e508-7b5e-4e3b-bd35-bbf7997fefbf",
   "metadata": {},
   "outputs": [],
   "source": [
    "dsr_parameters_str = \"\""
   ]
  },
  {
   "cell_type": "code",
   "execution_count": null,
   "id": "dbae866d-4539-481a-b1d8-8f3987f17032",
   "metadata": {},
   "outputs": [],
   "source": [
    "import numpy as np\n",
    "import json"
   ]
  },
  {
   "cell_type": "code",
   "execution_count": null,
   "id": "506f53d8-abea-48ac-9873-c72c1082af46",
   "metadata": {},
   "outputs": [],
   "source": [
    "if dsr_parameters_str:\n",
    "    param_grid = json.loads(dsr_parameters_str)\n",
    "else:\n",
    "    param_grid = {\n",
    "        'var_smoothing': np.logspace(-9, -5, 30)\n",
    "    }"
   ]
  },
  {
   "cell_type": "code",
   "execution_count": null,
   "id": "24592879-2e6f-41e8-acb7-369e715da910",
   "metadata": {},
   "outputs": [],
   "source": [
    "import json\n",
    "import pandas as pd\n",
    "from sklearn.naive_bayes import GaussianNB\n",
    "from sklearn.metrics import accuracy_score\n",
    "from sklearn.metrics import roc_auc_score\n",
    "from sklearn.metrics import f1_score\n",
    "from sklearn.model_selection import train_test_split, GridSearchCV\n",
    "from sklearn.preprocessing import StandardScaler"
   ]
  },
  {
   "cell_type": "code",
   "execution_count": null,
   "id": "e5378e27-9f87-462a-850e-8aad606e0fc1",
   "metadata": {},
   "outputs": [],
   "source": [
    "train = pd.read_csv(dsr_training_file)"
   ]
  },
  {
   "cell_type": "code",
   "execution_count": null,
   "id": "944293a4-ce63-427c-a416-570ad9c8b2c8",
   "metadata": {},
   "outputs": [],
   "source": [
    "target = train[dsr_predict_column]\n",
    "train = train.drop([dsr_predict_column], axis=1)"
   ]
  },
  {
   "cell_type": "code",
   "execution_count": null,
   "id": "7048b6db-bb76-47cb-a2cf-99b92a9d8f54",
   "metadata": {},
   "outputs": [],
   "source": [
    "x = pd.DataFrame(train)\n",
    "y = target\n",
    "col_names = pd.Index(dsr_features)\n",
    "features = x[col_names]\n",
    "\n",
    "# This one input\n",
    "\n",
    "scaler = StandardScaler().fit(features.values)\n",
    "features = scaler.transform(features.values)\n",
    "x[col_names] = features\n",
    "x = np.array(x)\n",
    "x_train, x_test, y_train, y_test = train_test_split(\n",
    "    x, y, test_size=0.3, random_state=2439\n",
    ")\n"
   ]
  },
  {
   "cell_type": "code",
   "execution_count": null,
   "id": "8eb68c73-f2c3-46c5-978c-405e1cdd3a75",
   "metadata": {},
   "outputs": [],
   "source": [
    "\n",
    "grid_search = GridSearchCV(\n",
    "    GaussianNB(),\n",
    "    param_grid,\n",
    "    cv=5,\n",
    "    scoring='accuracy',\n",
    "    n_jobs=-1\n",
    ")"
   ]
  },
  {
   "cell_type": "code",
   "execution_count": null,
   "id": "f921e24c-aba6-43fe-baf4-f5b912ca9054",
   "metadata": {},
   "outputs": [],
   "source": [
    "grid_search.fit(x_train, y_train)\n",
    "best_nb = grid_search.best_estimator_\n",
    "y_pred_nb = best_nb.predict(x_test)"
   ]
  },
  {
   "cell_type": "code",
   "execution_count": null,
   "id": "a6bd9ce5-c50d-403b-9cbc-6604bf821f82",
   "metadata": {},
   "outputs": [],
   "source": [
    "accuracy_score_result = accuracy_score(y_test, y_pred_nb)\n",
    "roc_auc_score_result = roc_auc_score(y_test, y_pred_nb)\n",
    "f1_score_result = f1_score(y_test,y_pred_nb)"
   ]
  },
  {
   "cell_type": "code",
   "execution_count": null,
   "id": "6009244a-7d83-4201-ad1f-2e3d6af17b46",
   "metadata": {},
   "outputs": [],
   "source": [
    "print(\"best_parameters:\", json.dumps(grid_search.best_params_))"
   ]
  },
  {
   "cell_type": "code",
   "execution_count": null,
   "id": "b0f294ab-626b-4351-8bff-341ce6376b04",
   "metadata": {},
   "outputs": [],
   "source": [
    "print(\"accuracy_score:\", accuracy_score_result)"
   ]
  },
  {
   "cell_type": "code",
   "execution_count": null,
   "id": "a1f5e00b-d44e-45cf-a060-d7b510129b45",
   "metadata": {},
   "outputs": [],
   "source": [
    "print(\"roc_auc_score:\", roc_auc_score_result)"
   ]
  },
  {
   "cell_type": "code",
   "execution_count": null,
   "id": "9c80c4f5-7bde-4603-8aac-19a715ad5bfd",
   "metadata": {},
   "outputs": [],
   "source": [
    "print(\"f1_score:\", f1_score_result)"
   ]
  },
  {
   "cell_type": "code",
   "execution_count": null,
   "id": "1eee47f5-1afd-4e79-aa5b-f983847da7f6",
   "metadata": {},
   "outputs": [],
   "source": [
    "print(\"--end--\")"
   ]
  },
  {
   "cell_type": "code",
   "execution_count": null,
   "id": "4c3e35e0-2da4-4185-88ee-791a32a2be7f",
   "metadata": {},
   "outputs": [],
   "source": [
    "print(\"--end--\")"
   ]
  }
 ],
 "metadata": {
  "kernelspec": {
   "display_name": "Python 3 (ipykernel)",
   "language": "python",
   "name": "python3"
  },
  "language_info": {
   "codemirror_mode": {
    "name": "ipython",
    "version": 3
   },
   "file_extension": ".py",
   "mimetype": "text/x-python",
   "name": "python",
   "nbconvert_exporter": "python",
   "pygments_lexer": "ipython3",
   "version": "3.12.3"
  }
 },
 "nbformat": 4,
 "nbformat_minor": 5
}
