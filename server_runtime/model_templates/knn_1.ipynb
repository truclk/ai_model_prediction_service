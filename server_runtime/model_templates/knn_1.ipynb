{
 "cells": [
  {
   "cell_type": "code",
   "execution_count": 1,
   "id": "70a9b939-3dcb-48d0-9c84-6458ec7fda00",
   "metadata": {},
   "outputs": [],
   "source": [
    "training_file = \"\""
   ]
  },
  {
   "cell_type": "code",
   "execution_count": 2,
   "id": "bfdef86a-fab8-4e4d-bc5e-b97dd42f9129",
   "metadata": {},
   "outputs": [],
   "source": [
    "predict_column = \"\""
   ]
  },
  {
   "cell_type": "code",
   "execution_count": 2,
   "id": "ae17b09f-4154-4c81-b3e7-5ad01c508cc4",
   "metadata": {},
   "outputs": [],
   "source": [
    "features = []"
   ]
  },
  {
   "cell_type": "code",
   "execution_count": 3,
   "id": "24592879-2e6f-41e8-acb7-369e715da910",
   "metadata": {},
   "outputs": [],
   "source": [
    "import numpy as np\n",
    "import pandas as pd\n",
    "from sklearn.neighbors import KNeighborsClassifier\n",
    "from sklearn.metrics import accuracy_score\n",
    "from sklearn.metrics import roc_auc_score\n",
    "from sklearn.model_selection import train_test_split\n",
    "from sklearn.preprocessing import StandardScaler"
   ]
  },
  {
   "cell_type": "code",
   "execution_count": 4,
   "id": "e5378e27-9f87-462a-850e-8aad606e0fc1",
   "metadata": {},
   "outputs": [],
   "source": [
    "train = pd.read_csv(training_file)"
   ]
  },
  {
   "cell_type": "code",
   "execution_count": 5,
   "id": "944293a4-ce63-427c-a416-570ad9c8b2c8",
   "metadata": {},
   "outputs": [],
   "source": [
    "target = train[predict_column]\n",
    "train = train.drop([predict_column], axis=1)\n"
   ]
  },
  {
   "cell_type": "code",
   "execution_count": 6,
   "id": "7048b6db-bb76-47cb-a2cf-99b92a9d8f54",
   "metadata": {},
   "outputs": [],
   "source": [
    "x = pd.DataFrame(train)\n",
    "y = target\n",
    "col_names = x.columns\n",
    "features = x[col_names]\n",
    "\n",
    "# This one input\n",
    "\n",
    "scaler = StandardScaler().fit(features.values)\n",
    "features = scaler.transform(features.values)\n",
    "x[col_names] = features\n",
    "x = np.array(x)\n",
    "x_train, x_test, y_train, y_test = train_test_split(\n",
    "    x, y, test_size=0.3, random_state=2439\n",
    ")\n"
   ]
  },
  {
   "cell_type": "code",
   "execution_count": 10,
   "id": "f85422cb-6aba-46d2-a03f-e072c88288ad",
   "metadata": {},
   "outputs": [
    {
     "data": {
      "text/plain": [
       "Index(['gender', 'age', 'hypertension', 'heart_disease', 'ever_married',\n",
       "       'work_type', 'Residence_type', 'avg_glucose_level', 'bmi',\n",
       "       'smoking_status'],\n",
       "      dtype='object')"
      ]
     },
     "execution_count": 10,
     "metadata": {},
     "output_type": "execute_result"
    }
   ],
   "source": [
    "col_names\n"
   ]
  },
  {
   "cell_type": "code",
   "execution_count": 7,
   "id": "a6bd9ce5-c50d-403b-9cbc-6604bf821f82",
   "metadata": {},
   "outputs": [],
   "source": [
    "knn = KNeighborsClassifier()\n",
    "knn.fit(x_train,y_train)\n",
    "y_pred_knn = knn.predict(x_test)\n",
    "accuracy_score_result = accuracy_score(y_test, y_pred_knn)\n",
    "roc_auc_score_result = roc_auc_score(y_test, y_pred_knn)\n"
   ]
  },
  {
   "cell_type": "code",
   "execution_count": 8,
   "id": "f42f95cd-a97b-431f-9cf7-b0755f60435f",
   "metadata": {},
   "outputs": [
    {
     "name": "stdout",
     "output_type": "stream",
     "text": [
      "accuracy_score: 0.943900848010437\n"
     ]
    }
   ],
   "source": [
    "print(\"accuracy_score:\", accuracy_score_result)"
   ]
  },
  {
   "cell_type": "code",
   "execution_count": 9,
   "id": "5df22235-ac80-437b-973e-436c85c897d4",
   "metadata": {},
   "outputs": [
    {
     "name": "stdout",
     "output_type": "stream",
     "text": [
      "roc_auc_score: 0.49896551724137933\n"
     ]
    }
   ],
   "source": [
    "print(\"roc_auc_score:\", roc_auc_score_result)"
   ]
  },
  {
   "cell_type": "code",
   "execution_count": 35,
   "id": "901d9774-4b97-4976-9aa9-d8f2a6ee7fbb",
   "metadata": {},
   "outputs": [
    {
     "name": "stdout",
     "output_type": "stream",
     "text": [
      "--end--\n"
     ]
    }
   ],
   "source": [
    "print(\"--end--\")"
   ]
  }
 ],
 "metadata": {
  "kernelspec": {
   "display_name": "Python 3 (ipykernel)",
   "language": "python",
   "name": "python3"
  },
  "language_info": {
   "codemirror_mode": {
    "name": "ipython",
    "version": 3
   },
   "file_extension": ".py",
   "mimetype": "text/x-python",
   "name": "python",
   "nbconvert_exporter": "python",
   "pygments_lexer": "ipython3",
   "version": "3.12.3"
  }
 },
 "nbformat": 4,
 "nbformat_minor": 5
}
