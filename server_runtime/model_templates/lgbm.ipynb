{
 "cells": [
  {
   "cell_type": "code",
   "execution_count": null,
   "id": "8fc1b520-41cf-4054-9ebc-9002bc96ce10",
   "metadata": {},
   "outputs": [],
   "source": [
    "dsr_training_file = \"\""
   ]
  },
  {
   "cell_type": "code",
   "execution_count": null,
   "id": "5ffc9319-0cd2-4d67-b1dc-d9adb54308ea",
   "metadata": {},
   "outputs": [],
   "source": [
    "dsr_predict_column = \"\""
   ]
  },
  {
   "cell_type": "code",
   "execution_count": null,
   "id": "c9e203f9-c406-40be-a618-1edfb559f35a",
   "metadata": {},
   "outputs": [],
   "source": [
    "dsr_features = []"
   ]
  },
  {
   "cell_type": "code",
   "execution_count": 20,
   "id": "24592879-2e6f-41e8-acb7-369e715da910",
   "metadata": {},
   "outputs": [],
   "source": [
    "import numpy as np\n",
    "import pandas as pd\n",
    "from sklearn.naive_bayes import GaussianNB\n",
    "from sklearn.metrics import accuracy_score\n",
    "from sklearn.metrics import roc_auc_score\n",
    "from sklearn.model_selection import train_test_split, KFold\n",
    "from sklearn.preprocessing import StandardScaler\n",
    "from lightgbm import LGBMModel,LGBMClassifier"
   ]
  },
  {
   "cell_type": "code",
   "execution_count": 21,
   "id": "e5378e27-9f87-462a-850e-8aad606e0fc1",
   "metadata": {},
   "outputs": [],
   "source": [
    "train = pd.read_csv(dsr_training_file)"
   ]
  },
  {
   "cell_type": "code",
   "execution_count": 22,
   "id": "944293a4-ce63-427c-a416-570ad9c8b2c8",
   "metadata": {},
   "outputs": [],
   "source": [
    "target = train[dsr_predict_column]\n",
    "train = train.drop([dsr_predict_column], axis=1)\n"
   ]
  },
  {
   "cell_type": "code",
   "execution_count": 23,
   "id": "7048b6db-bb76-47cb-a2cf-99b92a9d8f54",
   "metadata": {},
   "outputs": [],
   "source": [
    "x = pd.DataFrame(train)\n",
    "y = target\n",
    "col_names = pd.Index(dsr_features)\n",
    "features = x[col_names]\n",
    "\n",
    "# This one input\n",
    "\n",
    "scaler = StandardScaler().fit(features.values)\n",
    "features = scaler.transform(features.values)\n",
    "x[col_names] = features\n",
    "x = np.array(x)\n",
    "x_train, x_test, y_train, y_test = train_test_split(\n",
    "    x, y, test_size=0.3, random_state=2439\n",
    ")\n"
   ]
  },
  {
   "cell_type": "code",
   "execution_count": 24,
   "id": "0e4ef7d1-9303-4fd2-a02d-00dbbb694fec",
   "metadata": {},
   "outputs": [
    {
     "name": "stdout",
     "output_type": "stream",
     "text": [
      "[LightGBM] [Info] Number of positive: 522, number of negative: 54336\n",
      "[LightGBM] [Warning] Auto-choosing col-wise multi-threading, the overhead of testing was 0.005336 seconds.\n",
      "You can set `force_col_wise=true` to remove the overhead.\n",
      "[LightGBM] [Info] Total Bins 5891\n",
      "[LightGBM] [Info] Number of data points in the train set: 54858, number of used features: 30\n",
      "[LightGBM] [Info] [binary:BoostFromScore]: pavg=0.009515 -> initscore=-4.645275\n",
      "[LightGBM] [Info] Start training from score -4.645275\n",
      "[LightGBM] [Warning] No further splits with positive gain, best gain: -inf\n",
      "[LightGBM] [Warning] No further splits with positive gain, best gain: -inf\n",
      "[LightGBM] [Warning] No further splits with positive gain, best gain: -inf\n",
      "[LightGBM] [Warning] No further splits with positive gain, best gain: -inf\n",
      "[LightGBM] [Warning] No further splits with positive gain, best gain: -inf\n"
     ]
    }
   ],
   "source": [
    "lgbm = LGBMClassifier(objective='binary',n_estimators=100,reg_alpha=2,reg_lambda=5,random_state=1,learning_rate=0.01,is_unbalance=True)\n",
    "model = lgbm\n",
    "name = 'LGBM'\n",
    "roc_acc = []\n",
    "model.fit(x_train,y_train)\n",
    "y_pred = model.predict(x_test)\n",
    "accuracy_score_result = accuracy_score(y_test, y_pred)\n",
    "roc_auc_score_result = roc_auc_score(y_test,y_pred)"
   ]
  },
  {
   "cell_type": "code",
   "execution_count": 25,
   "id": "a6bd9ce5-c50d-403b-9cbc-6604bf821f82",
   "metadata": {},
   "outputs": [
    {
     "name": "stdout",
     "output_type": "stream",
     "text": [
      "accuracy_score: 0.9536387223001999\n"
     ]
    }
   ],
   "source": [
    "print(\"accuracy_score:\", accuracy_score_result)"
   ]
  },
  {
   "cell_type": "code",
   "execution_count": 26,
   "id": "b0f294ab-626b-4351-8bff-341ce6376b04",
   "metadata": {},
   "outputs": [
    {
     "name": "stdout",
     "output_type": "stream",
     "text": [
      "roc_auc_score: 0.8018512092220282\n"
     ]
    }
   ],
   "source": [
    "print(\"roc_auc_score:\", roc_auc_score_result)"
   ]
  },
  {
   "cell_type": "code",
   "execution_count": 27,
   "id": "e0e518ab-e62f-4d42-a152-60df01b59c42",
   "metadata": {},
   "outputs": [],
   "source": [
    "print(\"--end--\")"
   ]
  }
 ],
 "metadata": {
  "kernelspec": {
   "display_name": "Python 3 (ipykernel)",
   "language": "python",
   "name": "python3"
  },
  "language_info": {
   "codemirror_mode": {
    "name": "ipython",
    "version": 3
   },
   "file_extension": ".py",
   "mimetype": "text/x-python",
   "name": "python",
   "nbconvert_exporter": "python",
   "pygments_lexer": "ipython3",
   "version": "3.12.3"
  }
 },
 "nbformat": 4,
 "nbformat_minor": 5
}
