{
 "cells": [
  {
   "cell_type": "code",
   "execution_count": null,
   "id": "8fc1b520-41cf-4054-9ebc-9002bc96ce10",
   "metadata": {},
   "outputs": [],
   "source": [
    "dsr_training_file = \"\""
   ]
  },
  {
   "cell_type": "code",
   "execution_count": null,
   "id": "5ffc9319-0cd2-4d67-b1dc-d9adb54308ea",
   "metadata": {},
   "outputs": [],
   "source": [
    "dsr_predict_column = \"\""
   ]
  },
  {
   "cell_type": "code",
   "execution_count": null,
   "id": "c9e203f9-c406-40be-a618-1edfb559f35a",
   "metadata": {},
   "outputs": [],
   "source": [
    "dsr_features = []"
   ]
  },
  {
   "cell_type": "code",
   "execution_count": null,
   "id": "876f4ca9-e72a-4ca4-b971-f46f22e16611",
   "metadata": {},
   "outputs": [],
   "source": [
    "dsr_parameters_str = \"\""
   ]
  },
  {
   "cell_type": "code",
   "execution_count": null,
   "id": "00923c80-1be0-498a-b0d0-8654425f1d49",
   "metadata": {},
   "outputs": [],
   "source": [
    "import numpy as np\n",
    "import json"
   ]
  },
  {
   "cell_type": "code",
   "execution_count": null,
   "id": "501d51d5-8b14-4e52-98a9-373c147ce11e",
   "metadata": {},
   "outputs": [],
   "source": [
    "if dsr_parameters_str:\n",
    "    param_grid = json.loads(dsr_parameters_str)\n",
    "else:\n",
    "    param_grid = {\n",
    "        'n_estimators': [100],\n",
    "        'learning_rate': [0.01],\n",
    "        #'num_leaves': [31, 50],\n",
    "        #'max_depth': [10, 20],\n",
    "        #'min_child_samples': [20, 50],\n",
    "        #'reg_alpha': [1, 2],\n",
    "        'reg_alpha': [2],\n",
    "        'reg_lambda': [5]\n",
    "    }"
   ]
  },
  {
   "cell_type": "code",
   "execution_count": null,
   "id": "24592879-2e6f-41e8-acb7-369e715da910",
   "metadata": {},
   "outputs": [],
   "source": [
    "import pandas as pd\n",
    "from sklearn.metrics import accuracy_score\n",
    "from sklearn.metrics import roc_auc_score\n",
    "from sklearn.metrics import f1_score\n",
    "from sklearn.model_selection import train_test_split, GridSearchCV\n",
    "from sklearn.preprocessing import StandardScaler\n",
    "from lightgbm import LGBMModel,LGBMClassifier"
   ]
  },
  {
   "cell_type": "code",
   "execution_count": null,
   "id": "e5378e27-9f87-462a-850e-8aad606e0fc1",
   "metadata": {},
   "outputs": [],
   "source": [
    "train = pd.read_csv(dsr_training_file)"
   ]
  },
  {
   "cell_type": "code",
   "execution_count": null,
   "id": "944293a4-ce63-427c-a416-570ad9c8b2c8",
   "metadata": {},
   "outputs": [],
   "source": [
    "target = train[dsr_predict_column]\n",
    "train = train.drop([dsr_predict_column], axis=1)\n"
   ]
  },
  {
   "cell_type": "code",
   "execution_count": null,
   "id": "7048b6db-bb76-47cb-a2cf-99b92a9d8f54",
   "metadata": {},
   "outputs": [],
   "source": [
    "x = pd.DataFrame(train)\n",
    "y = target\n",
    "col_names = pd.Index(dsr_features)\n",
    "features = x[col_names]\n",
    "\n",
    "# This one input\n",
    "\n",
    "scaler = StandardScaler().fit(features.values)\n",
    "features = scaler.transform(features.values)\n",
    "x[col_names] = features\n",
    "x = np.array(x)\n",
    "x_train, x_test, y_train, y_test = train_test_split(\n",
    "    x, y, test_size=0.3, random_state=2439\n",
    ")\n"
   ]
  },
  {
   "cell_type": "code",
   "execution_count": null,
   "id": "97349ce6-42b7-4c60-9e7b-418c77b1260c",
   "metadata": {},
   "outputs": [],
   "source": [
    "grid_search = GridSearchCV(\n",
    "    LGBMClassifier(objective='binary', random_state=2439, is_unbalance=True),\n",
    "    param_grid,\n",
    "    cv=5,\n",
    "    scoring='roc_auc',\n",
    "    n_jobs=-1\n",
    ")"
   ]
  },
  {
   "cell_type": "code",
   "execution_count": null,
   "id": "0e4ef7d1-9303-4fd2-a02d-00dbbb694fec",
   "metadata": {},
   "outputs": [],
   "source": [
    "grid_search.fit(x_train, y_train)\n",
    "best_lgbm = grid_search.best_estimator_\n",
    "y_pred = best_lgbm.predict(x_test)\n",
    "\n",
    "accuracy_score_result = accuracy_score(y_test, y_pred)\n",
    "roc_auc_score_result = roc_auc_score(y_test,y_pred)\n",
    "f1_score_result = f1_score(y_test,y_pred)"
   ]
  },
  {
   "cell_type": "code",
   "execution_count": null,
   "id": "6a9ad9bc-22f5-46ca-84e3-d59cda479336",
   "metadata": {},
   "outputs": [],
   "source": [
    "print(\"best_parameters:\", json.dumps(grid_search.best_params_))"
   ]
  },
  {
   "cell_type": "code",
   "execution_count": null,
   "id": "a6bd9ce5-c50d-403b-9cbc-6604bf821f82",
   "metadata": {},
   "outputs": [],
   "source": [
    "print(\"accuracy_score:\", accuracy_score_result)"
   ]
  },
  {
   "cell_type": "code",
   "execution_count": null,
   "id": "b0f294ab-626b-4351-8bff-341ce6376b04",
   "metadata": {},
   "outputs": [],
   "source": [
    "print(\"roc_auc_score:\", roc_auc_score_result)"
   ]
  },
  {
   "cell_type": "code",
   "execution_count": null,
   "id": "193ff7a5-1a39-4200-9072-30571a6acddc",
   "metadata": {},
   "outputs": [],
   "source": [
    "print(\"f1_score:\", f1_score_result)"
   ]
  },
  {
   "cell_type": "code",
   "execution_count": null,
   "id": "e0e518ab-e62f-4d42-a152-60df01b59c42",
   "metadata": {},
   "outputs": [],
   "source": [
    "print(\"--end--\")"
   ]
  },
  {
   "cell_type": "code",
   "execution_count": null,
   "id": "81599acb-7ef0-4426-9a3c-a1825c436826",
   "metadata": {},
   "outputs": [],
   "source": [
    "print(\"--end--\")"
   ]
  }
 ],
 "metadata": {
  "kernelspec": {
   "display_name": "Python 3 (ipykernel)",
   "language": "python",
   "name": "python3"
  },
  "language_info": {
   "codemirror_mode": {
    "name": "ipython",
    "version": 3
   },
   "file_extension": ".py",
   "mimetype": "text/x-python",
   "name": "python",
   "nbconvert_exporter": "python",
   "pygments_lexer": "ipython3",
   "version": "3.12.3"
  }
 },
 "nbformat": 4,
 "nbformat_minor": 5
}
