{
 "cells": [
  {
   "cell_type": "code",
   "execution_count": null,
   "id": "7a200e2c-98fa-45ed-90fd-ef41dd02621f",
   "metadata": {},
   "outputs": [],
   "source": [
    "dsr_training_file = \"\""
   ]
  },
  {
   "cell_type": "code",
   "execution_count": null,
   "id": "2493d1f4-71c6-41f6-9ab9-9ab20c63a892",
   "metadata": {},
   "outputs": [],
   "source": [
    "dsr_predict_column = \"\""
   ]
  },
  {
   "cell_type": "code",
   "execution_count": null,
   "id": "ab1c8c46-19cf-4949-b3dd-c3df039911ac",
   "metadata": {},
   "outputs": [],
   "source": [
    "dsr_features = []"
   ]
  },
  {
   "cell_type": "code",
   "execution_count": null,
   "id": "c6870e6d-290f-47d9-a2cb-cf2e507a7c2c",
   "metadata": {},
   "outputs": [],
   "source": [
    "dsr_parameters_str = \"\""
   ]
  },
  {
   "cell_type": "code",
   "execution_count": null,
   "id": "bd5ab528-a3a0-43ea-9832-bc4e9cba32ef",
   "metadata": {},
   "outputs": [],
   "source": [
    "import numpy as np\n",
    "import json"
   ]
  },
  {
   "cell_type": "code",
   "execution_count": null,
   "id": "93ed0ee6-be0f-4e02-b687-2c8eeb55e8b8",
   "metadata": {},
   "outputs": [],
   "source": [
    "# Set up GridSearchCV\n",
    "if dsr_parameters_str:\n",
    "    param_grid = json.loads(dsr_parameters_str)\n",
    "else:\n",
    "    param_grid = {\n",
    "        'estimator__var_smoothing': np.logspace(-9, -5, 30)\n",
    "    }"
   ]
  },
  {
   "cell_type": "code",
   "execution_count": null,
   "id": "ec9dc1bb-cf91-4785-85fe-83b31040f7ec",
   "metadata": {},
   "outputs": [],
   "source": [
    "import pandas as pd\n",
    "from sklearn.naive_bayes import GaussianNB\n",
    "from sklearn.metrics import accuracy_score, roc_auc_score, f1_score\n",
    "from sklearn.model_selection import train_test_split, GridSearchCV\n",
    "from sklearn.preprocessing import StandardScaler, LabelEncoder\n",
    "from sklearn.multiclass import OneVsRestClassifier\n",
    "\n",
    "# Load and prepare data\n",
    "train = pd.read_csv(dsr_training_file)\n",
    "target = train[dsr_predict_column]\n",
    "train = train.drop([dsr_predict_column], axis=1)\n",
    "\n",
    "x = pd.DataFrame(train)\n",
    "y = target\n",
    "col_names = pd.Index(dsr_features)\n",
    "features = x[col_names]\n",
    "\n",
    "# Standardize features\n",
    "scaler = StandardScaler().fit(features.values)\n",
    "features = scaler.transform(features.values)\n",
    "x[col_names] = features\n",
    "x = np.array(x)\n",
    "\n",
    "# Encode target labels\n",
    "le = LabelEncoder()\n",
    "y = le.fit_transform(y)\n",
    "\n",
    "# Split the data\n",
    "x_train, x_test, y_train, y_test = train_test_split(\n",
    "    x, y, test_size=0.3, random_state=2439\n",
    ")\n",
    "\n",
    "\n",
    "\n",
    "# Use OneVsRestClassifier for multiclass support\n",
    "grid_search = GridSearchCV(\n",
    "    OneVsRestClassifier(GaussianNB()),\n",
    "    param_grid,\n",
    "    cv=5,\n",
    "    scoring='accuracy',\n",
    "    n_jobs=-1\n",
    ")\n",
    "\n",
    "# Fit the model\n",
    "grid_search.fit(x_train, y_train)\n",
    "best_nb = grid_search.best_estimator_\n",
    "\n",
    "# Make predictions\n",
    "y_pred_nb = best_nb.predict(x_test)\n",
    "y_pred_proba_nb = best_nb.predict_proba(x_test)\n",
    "\n",
    "# Calculate metrics\n",
    "accuracy_score_result = accuracy_score(y_test, y_pred_nb)\n",
    "\n",
    "# For multiclass ROC AUC, we use the OvR approach\n",
    "roc_auc_score_result = roc_auc_score(y_test, y_pred_proba_nb, multi_class='ovr', average='macro')\n",
    "\n",
    "# For multiclass F1 score, we use the macro average\n",
    "f1_score_result = f1_score(y_test, y_pred_nb, average='macro')"
   ]
  },
  {
   "cell_type": "code",
   "execution_count": null,
   "id": "a37f1880-6780-497d-a412-3857f2af1adf",
   "metadata": {},
   "outputs": [],
   "source": [
    "print(\"best_parameters:\", json.dumps(grid_search.best_params_))"
   ]
  },
  {
   "cell_type": "code",
   "execution_count": null,
   "id": "5bb1f334-86ae-46b4-93c7-bd142fb4798a",
   "metadata": {},
   "outputs": [],
   "source": [
    "print(\"accuracy_score:\", accuracy_score_result)"
   ]
  },
  {
   "cell_type": "code",
   "execution_count": null,
   "id": "8a0f83bd-562b-46d6-8c74-3c868c5673e2",
   "metadata": {},
   "outputs": [],
   "source": [
    "print(\"roc_auc_score:\", roc_auc_score_result)"
   ]
  },
  {
   "cell_type": "code",
   "execution_count": null,
   "id": "3e89f7da-75a3-4a4f-9874-7819bb4124e7",
   "metadata": {},
   "outputs": [],
   "source": [
    "print(\"f1_score:\", f1_score_result)"
   ]
  },
  {
   "cell_type": "code",
   "execution_count": null,
   "id": "1de9090a-af97-4b68-82d6-6fff73e110ee",
   "metadata": {},
   "outputs": [],
   "source": [
    "print(\"--end--\")"
   ]
  },
  {
   "cell_type": "code",
   "execution_count": null,
   "id": "95c8495c-a27b-4779-a13f-c11f9e478f4a",
   "metadata": {},
   "outputs": [],
   "source": [
    "print(\"--end--\")"
   ]
  }
 ],
 "metadata": {
  "kernelspec": {
   "display_name": "Python 3 (ipykernel)",
   "language": "python",
   "name": "python3"
  },
  "language_info": {
   "codemirror_mode": {
    "name": "ipython",
    "version": 3
   },
   "file_extension": ".py",
   "mimetype": "text/x-python",
   "name": "python",
   "nbconvert_exporter": "python",
   "pygments_lexer": "ipython3",
   "version": "3.12.3"
  }
 },
 "nbformat": 4,
 "nbformat_minor": 5
}
