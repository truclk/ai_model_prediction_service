{
 "cells": [
  {
   "cell_type": "code",
   "execution_count": null,
   "id": "4bd25b56-db5b-4109-a099-4ad31eb913c7",
   "metadata": {},
   "outputs": [],
   "source": [
    "dsr_training_file = \"\""
   ]
  },
  {
   "cell_type": "code",
   "execution_count": null,
   "id": "71f43c1c-fa12-450a-923b-89a29bda6f73",
   "metadata": {},
   "outputs": [],
   "source": [
    "dsr_predict_column = \"\""
   ]
  },
  {
   "cell_type": "code",
   "execution_count": null,
   "id": "f89f73e4-e926-425b-9e5a-15929b9f18fb",
   "metadata": {},
   "outputs": [],
   "source": [
    "dsr_features = []"
   ]
  },
  {
   "cell_type": "code",
   "execution_count": null,
   "id": "24592879-2e6f-41e8-acb7-369e715da910",
   "metadata": {},
   "outputs": [],
   "source": [
    "import numpy as np\n",
    "import pandas as pd\n",
    "from sklearn.linear_model import LogisticRegression\n",
    "from sklearn.metrics import accuracy_score\n",
    "from sklearn.metrics import roc_auc_score\n",
    "from sklearn.metrics import f1_score\n",
    "from sklearn.model_selection import train_test_split, GridSearchCV\n",
    "from sklearn.preprocessing import StandardScaler"
   ]
  },
  {
   "cell_type": "code",
   "execution_count": null,
   "id": "e5378e27-9f87-462a-850e-8aad606e0fc1",
   "metadata": {},
   "outputs": [],
   "source": [
    "train = pd.read_csv(dsr_training_file)"
   ]
  },
  {
   "cell_type": "code",
   "execution_count": null,
   "id": "944293a4-ce63-427c-a416-570ad9c8b2c8",
   "metadata": {},
   "outputs": [],
   "source": [
    "target = train[dsr_predict_column]\n",
    "train = train.drop([dsr_predict_column], axis=1)\n"
   ]
  },
  {
   "cell_type": "code",
   "execution_count": null,
   "id": "7048b6db-bb76-47cb-a2cf-99b92a9d8f54",
   "metadata": {},
   "outputs": [],
   "source": [
    "x = pd.DataFrame(train)\n",
    "y = target\n",
    "col_names = pd.Index(dsr_features)\n",
    "features = x[col_names]\n",
    "\n",
    "# This one input\n",
    "\n",
    "scaler = StandardScaler().fit(features.values)\n",
    "features = scaler.transform(features.values)\n",
    "x[col_names] = features"
   ]
  },
  {
   "cell_type": "code",
   "execution_count": null,
   "id": "f795a171-2f30-4c55-be33-c1d070889515",
   "metadata": {},
   "outputs": [],
   "source": [
    "x = np.array(x)\n",
    "x_train, x_test, y_train, y_test = train_test_split(\n",
    "    x, y, test_size=0.3, random_state=2439\n",
    ")\n",
    "param_grid = {\n",
    "    'C': [0.001, 0.01, 0.1, 1, 10, 100],\n",
    "    'penalty': ['l1', 'l2'],\n",
    "    'solver': ['liblinear', 'saga'],\n",
    "    'max_iter': [1000, 2000, 3000]\n",
    "}"
   ]
  },
  {
   "cell_type": "code",
   "execution_count": null,
   "id": "0e4ef7d1-9303-4fd2-a02d-00dbbb694fec",
   "metadata": {},
   "outputs": [],
   "source": [
    "grid_search = GridSearchCV(\n",
    "    LogisticRegression(random_state=2439),\n",
    "    param_grid,\n",
    "    cv=5,\n",
    "    scoring='accuracy',\n",
    "    n_jobs=-1\n",
    ")\n",
    "grid_search.fit(x_train, y_train)\n",
    "best_LR = grid_search.best_estimator_\n",
    "y_pred_LR = best_LR.predict(x_test)\n",
    "accuracy_score_result = accuracy_score(y_test, y_pred_LR)\n",
    "roc_auc_score_result = roc_auc_score(y_test, y_pred_LR)\n",
    "f1_score_result = f1_score(y_test,y_pred_LR)"
   ]
  },
  {
   "cell_type": "code",
   "execution_count": null,
   "id": "135d7185-4db9-4533-9e7f-1bfac952e197",
   "metadata": {},
   "outputs": [],
   "source": [
    "print(\"best_parameters:\", grid_search.best_params_)"
   ]
  },
  {
   "cell_type": "code",
   "execution_count": null,
   "id": "a6bd9ce5-c50d-403b-9cbc-6604bf821f82",
   "metadata": {},
   "outputs": [],
   "source": [
    "print(\"accuracy_score:\", accuracy_score_result)"
   ]
  },
  {
   "cell_type": "code",
   "execution_count": null,
   "id": "325544f6-339f-4c8d-86e5-4e468c908ff6",
   "metadata": {},
   "outputs": [],
   "source": [
    "print(\"roc_auc_score:\", roc_auc_score_result)"
   ]
  },
  {
   "cell_type": "code",
   "execution_count": null,
   "id": "5f2b9641-2f47-427f-819f-6f39d419b4d9",
   "metadata": {},
   "outputs": [],
   "source": [
    "print(\"f1_score:\", f1_score_result)"
   ]
  },
  {
   "cell_type": "code",
   "execution_count": null,
   "id": "031c677d-ff11-47f6-8feb-d154e4ed8e25",
   "metadata": {},
   "outputs": [],
   "source": [
    "print(\"--end--\")"
   ]
  },
  {
   "cell_type": "code",
   "execution_count": null,
   "id": "cd5846b7-7db4-4ff5-be91-1c5658c9c8a1",
   "metadata": {},
   "outputs": [],
   "source": [
    "print(\"--end--\")"
   ]
  }
 ],
 "metadata": {
  "kernelspec": {
   "display_name": "Python 3 (ipykernel)",
   "language": "python",
   "name": "python3"
  },
  "language_info": {
   "codemirror_mode": {
    "name": "ipython",
    "version": 3
   },
   "file_extension": ".py",
   "mimetype": "text/x-python",
   "name": "python",
   "nbconvert_exporter": "python",
   "pygments_lexer": "ipython3",
   "version": "3.12.3"
  }
 },
 "nbformat": 4,
 "nbformat_minor": 5
}
