{
 "cells": [
  {
   "cell_type": "code",
   "execution_count": 75,
   "id": "4bd25b56-db5b-4109-a099-4ad31eb913c7",
   "metadata": {},
   "outputs": [],
   "source": [
    "dsr_training_file = \"\""
   ]
  },
  {
   "cell_type": "code",
   "execution_count": 76,
   "id": "71f43c1c-fa12-450a-923b-89a29bda6f73",
   "metadata": {},
   "outputs": [],
   "source": [
    "dsr_predict_column = \"\""
   ]
  },
  {
   "cell_type": "code",
   "execution_count": 76,
   "id": "f89f73e4-e926-425b-9e5a-15929b9f18fb",
   "metadata": {},
   "outputs": [],
   "source": [
    "dsr_features = []"
   ]
  },
  {
   "cell_type": "code",
   "execution_count": 77,
   "id": "24592879-2e6f-41e8-acb7-369e715da910",
   "metadata": {},
   "outputs": [],
   "source": [
    "import numpy as np\n",
    "import pandas as pd\n",
    "from sklearn.linear_model import LogisticRegression\n",
    "from sklearn.metrics import accuracy_score\n",
    "from sklearn.metrics import roc_auc_score\n",
    "from sklearn.model_selection import train_test_split\n",
    "from sklearn.preprocessing import StandardScaler"
   ]
  },
  {
   "cell_type": "code",
   "execution_count": 78,
   "id": "e5378e27-9f87-462a-850e-8aad606e0fc1",
   "metadata": {},
   "outputs": [],
   "source": [
    "train = pd.read_csv(dsr_training_file)"
   ]
  },
  {
   "cell_type": "code",
   "execution_count": 79,
   "id": "944293a4-ce63-427c-a416-570ad9c8b2c8",
   "metadata": {},
   "outputs": [],
   "source": [
    "target = train[dsr_predict_column]\n",
    "train = train.drop([dsr_predict_column], axis=1)\n"
   ]
  },
  {
   "cell_type": "code",
   "execution_count": 80,
   "id": "7048b6db-bb76-47cb-a2cf-99b92a9d8f54",
   "metadata": {},
   "outputs": [],
   "source": [
    "x = pd.DataFrame(train)\n",
    "y = target\n",
    "col_names = pd.Index(dsr_features)\n",
    "features = x[col_names]\n",
    "\n",
    "# This one input\n",
    "\n",
    "scaler = StandardScaler().fit(features.values)\n",
    "features = scaler.transform(features.values)\n",
    "x[col_names] = features"
   ]
  },
  {
   "cell_type": "code",
   "execution_count": 81,
   "id": "0e4ef7d1-9303-4fd2-a02d-00dbbb694fec",
   "metadata": {},
   "outputs": [
    {
     "name": "stderr",
     "output_type": "stream",
     "text": [
      "/home/kientruc/.local/lib/python3.10/site-packages/sklearn/linear_model/_logistic.py:458: ConvergenceWarning: lbfgs failed to converge (status=1):\n",
      "STOP: TOTAL NO. of ITERATIONS REACHED LIMIT.\n",
      "\n",
      "Increase the number of iterations (max_iter) or scale the data as shown in:\n",
      "    https://scikit-learn.org/stable/modules/preprocessing.html\n",
      "Please also refer to the documentation for alternative solver options:\n",
      "    https://scikit-learn.org/stable/modules/linear_model.html#logistic-regression\n",
      "  n_iter_i = _check_optimize_result(\n"
     ]
    }
   ],
   "source": [
    "x = np.array(x)\n",
    "x_train, x_test, y_train, y_test = train_test_split(\n",
    "    x, y, test_size=0.3, random_state=2439\n",
    ")\n",
    "LR = LogisticRegression()\n",
    "LR.fit(x_train, y_train)\n",
    "y_pred_LR = LR.predict(x_test)\n",
    "accuracy_score_result = accuracy_score(y_test, y_pred_LR)\n",
    "roc_auc_score_result = roc_auc_score(y_test, y_pred_LR)"
   ]
  },
  {
   "cell_type": "code",
   "execution_count": 82,
   "id": "a6bd9ce5-c50d-403b-9cbc-6604bf821f82",
   "metadata": {},
   "outputs": [
    {
     "name": "stdout",
     "output_type": "stream",
     "text": [
      "accuracy_score: 0.9911956105652673\n"
     ]
    }
   ],
   "source": [
    "print(\"accuracy_score:\", accuracy_score_result)"
   ]
  },
  {
   "cell_type": "code",
   "execution_count": 83,
   "id": "325544f6-339f-4c8d-86e5-4e468c908ff6",
   "metadata": {},
   "outputs": [
    {
     "name": "stdout",
     "output_type": "stream",
     "text": [
      "roc_auc_score: 0.5023940033930855\n"
     ]
    }
   ],
   "source": [
    "print(\"roc_auc_score:\", roc_auc_score_result)"
   ]
  },
  {
   "cell_type": "code",
   "execution_count": 84,
   "id": "031c677d-ff11-47f6-8feb-d154e4ed8e25",
   "metadata": {},
   "outputs": [
    {
     "name": "stdout",
     "output_type": "stream",
     "text": [
      "--end--\n"
     ]
    }
   ],
   "source": [
    "print(\"--end--\")"
   ]
  }
 ],
 "metadata": {
  "kernelspec": {
   "display_name": "Python 3 (ipykernel)",
   "language": "python",
   "name": "python3"
  },
  "language_info": {
   "codemirror_mode": {
    "name": "ipython",
    "version": 3
   },
   "file_extension": ".py",
   "mimetype": "text/x-python",
   "name": "python",
   "nbconvert_exporter": "python",
   "pygments_lexer": "ipython3",
   "version": "3.12.3"
  }
 },
 "nbformat": 4,
 "nbformat_minor": 5
}
