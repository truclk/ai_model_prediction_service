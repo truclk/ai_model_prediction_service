{
 "cells": [
  {
   "cell_type": "code",
   "execution_count": null,
   "id": "70a9b939-3dcb-48d0-9c84-6458ec7fda00",
   "metadata": {},
   "outputs": [],
   "source": [
    "dsr_training_file = \"\""
   ]
  },
  {
   "cell_type": "code",
   "execution_count": null,
   "id": "bfdef86a-fab8-4e4d-bc5e-b97dd42f9129",
   "metadata": {},
   "outputs": [],
   "source": [
    "dsr_predict_column = \"\""
   ]
  },
  {
   "cell_type": "code",
   "execution_count": null,
   "id": "ebdf0b65-1187-4e92-8ae5-6ce92df69c00",
   "metadata": {},
   "outputs": [],
   "source": [
    "dsr_features = []"
   ]
  },
  {
   "cell_type": "code",
   "execution_count": null,
   "id": "36d844bb-b79b-4085-a29e-d457326e8556",
   "metadata": {},
   "outputs": [],
   "source": [
    "dsr_parameters_str = \"\""
   ]
  },
  {
   "cell_type": "code",
   "execution_count": null,
   "id": "1f34b76c-05fa-454f-bc0a-7b662c81aeed",
   "metadata": {},
   "outputs": [],
   "source": [
    "import numpy as np\n",
    "import json"
   ]
  },
  {
   "cell_type": "code",
   "execution_count": null,
   "id": "71d3ecf9-cbda-45cb-b03d-1daf898e6932",
   "metadata": {},
   "outputs": [],
   "source": [
    "if dsr_parameters_str:\n",
    "    param_grid = json.loads(dsr_parameters_str)\n",
    "else:\n",
    "    param_grid = {\n",
    "        'n_neighbors': [3, 5, 7, 9, 11],\n",
    "        'weights': ['uniform', 'distance'],\n",
    "        'metric': ['euclidean', 'manhattan']\n",
    "    }"
   ]
  },
  {
   "cell_type": "code",
   "execution_count": null,
   "id": "24592879-2e6f-41e8-acb7-369e715da910",
   "metadata": {},
   "outputs": [],
   "source": [
    "import pandas as pd\n",
    "from sklearn.neighbors import KNeighborsClassifier\n",
    "from sklearn.metrics import accuracy_score\n",
    "from sklearn.metrics import roc_auc_score\n",
    "from sklearn.metrics import f1_score\n",
    "from sklearn.model_selection import train_test_split, GridSearchCV\n",
    "from sklearn.preprocessing import StandardScaler"
   ]
  },
  {
   "cell_type": "code",
   "execution_count": null,
   "id": "e5378e27-9f87-462a-850e-8aad606e0fc1",
   "metadata": {},
   "outputs": [],
   "source": [
    "train = pd.read_csv(dsr_training_file)"
   ]
  },
  {
   "cell_type": "code",
   "execution_count": null,
   "id": "944293a4-ce63-427c-a416-570ad9c8b2c8",
   "metadata": {},
   "outputs": [],
   "source": [
    "target = train[dsr_predict_column]\n",
    "train = train.drop([dsr_predict_column], axis=1)\n"
   ]
  },
  {
   "cell_type": "code",
   "execution_count": null,
   "id": "7048b6db-bb76-47cb-a2cf-99b92a9d8f54",
   "metadata": {},
   "outputs": [],
   "source": [
    "x = pd.DataFrame(train)\n",
    "y = target\n",
    "col_names = pd.Index(dsr_features)\n",
    "features = x[col_names]\n",
    "\n",
    "# This one input\n",
    "\n",
    "scaler = StandardScaler().fit(features.values)\n",
    "features = scaler.transform(features.values)\n",
    "x[col_names] = features\n",
    "x = np.array(x)\n",
    "x_train, x_test, y_train, y_test = train_test_split(\n",
    "    x, y, test_size=0.3, random_state=2439\n",
    ")"
   ]
  },
  {
   "cell_type": "code",
   "execution_count": null,
   "id": "4a7fef03-37ff-45c3-b138-6d670091d367",
   "metadata": {},
   "outputs": [],
   "source": [
    "grid_search = GridSearchCV(\n",
    "    KNeighborsClassifier(),\n",
    "    param_grid,\n",
    "    cv=5,\n",
    "    scoring='accuracy',\n",
    "    n_jobs=-1\n",
    ")\n"
   ]
  },
  {
   "cell_type": "code",
   "execution_count": null,
   "id": "a6bd9ce5-c50d-403b-9cbc-6604bf821f82",
   "metadata": {},
   "outputs": [],
   "source": [
    "grid_search.fit(x_train, y_train)\n",
    "best_knn = grid_search.best_estimator_\n",
    "y_pred_knn = best_knn.predict(x_test)\n",
    "\n",
    "accuracy_score_result = accuracy_score(y_test, y_pred_knn)\n",
    "roc_auc_score_result = roc_auc_score(y_test, y_pred_knn)\n",
    "f1_score_result = f1_score(y_test,y_pred_knn)"
   ]
  },
  {
   "cell_type": "code",
   "execution_count": null,
   "id": "7b02844b-3a0b-41b2-b327-9dad79b08709",
   "metadata": {},
   "outputs": [],
   "source": [
    "print(\"best_parameters:\", json.dumps(grid_search.best_params_))"
   ]
  },
  {
   "cell_type": "code",
   "execution_count": null,
   "id": "f42f95cd-a97b-431f-9cf7-b0755f60435f",
   "metadata": {},
   "outputs": [],
   "source": [
    "print(\"accuracy_score:\", accuracy_score_result)"
   ]
  },
  {
   "cell_type": "code",
   "execution_count": null,
   "id": "5df22235-ac80-437b-973e-436c85c897d4",
   "metadata": {},
   "outputs": [],
   "source": [
    "print(\"roc_auc_score:\", roc_auc_score_result)"
   ]
  },
  {
   "cell_type": "code",
   "execution_count": null,
   "id": "36140b05-f127-4477-9083-d6b7cd8441ce",
   "metadata": {},
   "outputs": [],
   "source": [
    "print(\"f1_score:\", f1_score_result)"
   ]
  },
  {
   "cell_type": "code",
   "execution_count": null,
   "id": "901d9774-4b97-4976-9aa9-d8f2a6ee7fbb",
   "metadata": {},
   "outputs": [],
   "source": [
    "print(\"--end--\")"
   ]
  },
  {
   "cell_type": "code",
   "execution_count": null,
   "id": "605b2e10-3c92-42d1-8d74-706e2b616109",
   "metadata": {},
   "outputs": [],
   "source": [
    "print(\"--end--\")"
   ]
  }
 ],
 "metadata": {
  "kernelspec": {
   "display_name": "Python 3 (ipykernel)",
   "language": "python",
   "name": "python3"
  },
  "language_info": {
   "codemirror_mode": {
    "name": "ipython",
    "version": 3
   },
   "file_extension": ".py",
   "mimetype": "text/x-python",
   "name": "python",
   "nbconvert_exporter": "python",
   "pygments_lexer": "ipython3",
   "version": "3.12.3"
  }
 },
 "nbformat": 4,
 "nbformat_minor": 5
}
