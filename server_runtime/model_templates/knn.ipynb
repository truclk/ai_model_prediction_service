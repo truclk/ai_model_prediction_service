{
 "cells": [
  {
   "cell_type": "code",
   "execution_count": 26,
   "id": "70a9b939-3dcb-48d0-9c84-6458ec7fda00",
   "metadata": {},
   "outputs": [],
   "source": [
    "dsr_training_file = \"\""
   ]
  },
  {
   "cell_type": "code",
   "execution_count": 27,
   "id": "bfdef86a-fab8-4e4d-bc5e-b97dd42f9129",
   "metadata": {},
   "outputs": [],
   "source": [
    "dsr_predict_column = \"\""
   ]
  },
  {
   "cell_type": "code",
   "execution_count": 27,
   "id": "ebdf0b65-1187-4e92-8ae5-6ce92df69c00",
   "metadata": {},
   "outputs": [],
   "source": [
    "dsr_features = []"
   ]
  },
  {
   "cell_type": "code",
   "execution_count": 28,
   "id": "24592879-2e6f-41e8-acb7-369e715da910",
   "metadata": {},
   "outputs": [],
   "source": [
    "import numpy as np\n",
    "import pandas as pd\n",
    "from sklearn.neighbors import KNeighborsClassifier\n",
    "from sklearn.metrics import accuracy_score\n",
    "from sklearn.metrics import roc_auc_score\n",
    "from sklearn.model_selection import train_test_split\n",
    "from sklearn.preprocessing import StandardScaler"
   ]
  },
  {
   "cell_type": "code",
   "execution_count": 29,
   "id": "e5378e27-9f87-462a-850e-8aad606e0fc1",
   "metadata": {},
   "outputs": [],
   "source": [
    "train = pd.read_csv(dsr_training_file)"
   ]
  },
  {
   "cell_type": "code",
   "execution_count": 30,
   "id": "944293a4-ce63-427c-a416-570ad9c8b2c8",
   "metadata": {},
   "outputs": [],
   "source": [
    "target = train[dsr_predict_column]\n",
    "train = train.drop([dsr_predict_column], axis=1)\n"
   ]
  },
  {
   "cell_type": "code",
   "execution_count": 31,
   "id": "7048b6db-bb76-47cb-a2cf-99b92a9d8f54",
   "metadata": {},
   "outputs": [],
   "source": [
    "x = pd.DataFrame(train)\n",
    "y = target\n",
    "col_names = pd.Index(dsr_features)\n",
    "features = x[col_names]\n",
    "\n",
    "# This one input\n",
    "\n",
    "scaler = StandardScaler().fit(features.values)\n",
    "features = scaler.transform(features.values)\n",
    "x[col_names] = features\n",
    "x = np.array(x)\n",
    "x_train, x_test, y_train, y_test = train_test_split(\n",
    "    x, y, test_size=0.3, random_state=2439\n",
    ")\n"
   ]
  },
  {
   "cell_type": "code",
   "execution_count": 32,
   "id": "a6bd9ce5-c50d-403b-9cbc-6604bf821f82",
   "metadata": {},
   "outputs": [],
   "source": [
    "knn = KNeighborsClassifier()\n",
    "knn.fit(x_train,y_train)\n",
    "y_pred_knn = knn.predict(x_test)\n",
    "accuracy_score_result = accuracy_score(y_test, y_pred_knn)\n",
    "roc_auc_score_result = roc_auc_score(y_test, y_pred_knn)\n"
   ]
  },
  {
   "cell_type": "code",
   "execution_count": 33,
   "id": "f42f95cd-a97b-431f-9cf7-b0755f60435f",
   "metadata": {},
   "outputs": [
    {
     "name": "stdout",
     "output_type": "stream",
     "text": [
      "accuracy_score: 0.9911956105652673\n"
     ]
    }
   ],
   "source": [
    "print(\"accuracy_score:\", accuracy_score_result)"
   ]
  },
  {
   "cell_type": "code",
   "execution_count": 34,
   "id": "5df22235-ac80-437b-973e-436c85c897d4",
   "metadata": {},
   "outputs": [
    {
     "name": "stdout",
     "output_type": "stream",
     "text": [
      "roc_auc_score: 0.5167580237515982\n"
     ]
    }
   ],
   "source": [
    "print(\"roc_auc_score:\", roc_auc_score_result)"
   ]
  },
  {
   "cell_type": "code",
   "execution_count": 35,
   "id": "901d9774-4b97-4976-9aa9-d8f2a6ee7fbb",
   "metadata": {},
   "outputs": [
    {
     "name": "stdout",
     "output_type": "stream",
     "text": [
      "--end--\n"
     ]
    }
   ],
   "source": [
    "print(\"--end--\")"
   ]
  }
 ],
 "metadata": {
  "kernelspec": {
   "display_name": "Python 3 (ipykernel)",
   "language": "python",
   "name": "python3"
  },
  "language_info": {
   "codemirror_mode": {
    "name": "ipython",
    "version": 3
   },
   "file_extension": ".py",
   "mimetype": "text/x-python",
   "name": "python",
   "nbconvert_exporter": "python",
   "pygments_lexer": "ipython3",
   "version": "3.12.3"
  }
 },
 "nbformat": 4,
 "nbformat_minor": 5
}
